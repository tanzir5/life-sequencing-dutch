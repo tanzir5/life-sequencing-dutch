{
 "cells": [
  {
   "cell_type": "code",
   "execution_count": 3,
   "metadata": {},
   "outputs": [],
   "source": [
    "import pandas as pd \n",
    "import numpy as np \n",
    "import os"
   ]
  },
  {
   "cell_type": "code",
   "execution_count": 2,
   "metadata": {},
   "outputs": [],
   "source": [
    "url = \"/home/flavio/OneDrive/NLeSC/Projects/2024_life2vec/stakeholders/CBS/exports/2024-05-14/data/llm\""
   ]
  },
  {
   "cell_type": "code",
   "execution_count": 9,
   "metadata": {},
   "outputs": [
    {
     "name": "stdout",
     "output_type": "stream",
     "text": [
      "('/home/flavio/OneDrive/NLeSC/Projects/2024_life2vec/stakeholders/CBS/exports/2024-05-14/data/llm', ['income_yearly', 'job_yearly'], ['jobs_full_duration_meta.txt', 'divorce_info_good_format_covariance.csv', 'education_info_good_format_covariance.csv', 'background_columns.csv', 'background_meta.txt', 'education_info_good_format_columns.csv', 'new_death_info_good_format_meta.txt', 'divorce_info_good_format_meta.txt', 'new_death_info_good_format_columns.csv', 'jobs_full_duration_covariance.csv', 'new_death_info_good_format_covariance.csv', 'divorce_info_good_format_columns.csv', 'jobs_full_duration_columns.csv', 'background_covariance.csv', 'education_info_good_format_meta.txt'])\n",
      "('/home/flavio/OneDrive/NLeSC/Projects/2024_life2vec/stakeholders/CBS/exports/2024-05-14/data/llm/income_yearly', [], ['income_17_columns.csv', 'income_16_columns.csv', 'income_15_covariance.csv', 'income_18_covariance.csv', 'income_20_meta.txt', 'income_21_columns.csv', 'income_15_columns.csv', 'income_13_columns.csv', 'income_15_meta.txt', 'income_17_meta.txt', 'income_18_columns.csv', 'income_17_covariance.csv', 'income_13_covariance.csv', 'income_19_columns.csv', 'income_19_covariance.csv', 'income_20_columns.csv', 'income_13_meta.txt', 'income_14_columns.csv', 'income_21_meta.txt', 'income_19_meta.txt', 'income_14_meta.txt', 'income_21_covariance.csv', 'income_14_covariance.csv', 'income_18_meta.txt', 'income_16_covariance.csv', 'income_20_covariance.csv', 'income_16_meta.txt'])\n",
      "('/home/flavio/OneDrive/NLeSC/Projects/2024_life2vec/stakeholders/CBS/exports/2024-05-14/data/llm/job_yearly', [], ['paycheck_2020_covariance.csv', 'paycheck_2012_columns.csv', 'paycheck_2018_covariance.csv', 'paycheck_2014_columns.csv', 'paycheck_2020_meta.txt', 'paycheck_2017_columns.csv', 'paycheck_2013_columns.csv', 'paycheck_2022_meta.txt', 'paycheck_2021_meta.txt', 'paycheck_2013_meta.txt', 'paycheck_2015_meta.txt', 'paycheck_2019_meta.txt', 'paycheck_2015_covariance.csv', 'paycheck_2018_meta.txt', 'paycheck_2016_columns.csv', 'paycheck_2023_columns.csv', 'paycheck_2016_meta.txt', 'paycheck_2017_meta.txt', 'paycheck_2022_columns.csv', 'paycheck_2021_covariance.csv', 'paycheck_2021_columns.csv', 'paycheck_2018_columns.csv', 'paycheck_2012_meta.txt', 'paycheck_2019_covariance.csv', 'paycheck_2015_columns.csv', 'paycheck_2020_columns.csv', 'paycheck_2023_meta.txt', 'paycheck_2022_covariance.csv', 'paycheck_2016_covariance.csv', 'paycheck_2013_covariance.csv', 'paycheck_2012_covariance.csv', 'paycheck_2014_meta.txt', 'paycheck_2014_covariance.csv', 'paycheck_2019_columns.csv', 'paycheck_2017_covariance.csv', 'paycheck_2023_covariance.csv'])\n"
     ]
    }
   ],
   "source": [
    "files = os.walk(url)\n",
    "for f in files:\n",
    "    print(f)"
   ]
  },
  {
   "cell_type": "code",
   "execution_count": 10,
   "metadata": {},
   "outputs": [],
   "source": [
    "current_file = \"jobs_full_duration\"\n",
    "meta = current_file + \"_meta.txt\"\n",
    "covariance = current_file + \"_covariance.csv\"\n",
    "columns = current_file + \"_columns.csv\""
   ]
  },
  {
   "cell_type": "code",
   "execution_count": 14,
   "metadata": {},
   "outputs": [
    {
     "data": {
      "text/html": [
       "<div>\n",
       "<style scoped>\n",
       "    .dataframe tbody tr th:only-of-type {\n",
       "        vertical-align: middle;\n",
       "    }\n",
       "\n",
       "    .dataframe tbody tr th {\n",
       "        vertical-align: top;\n",
       "    }\n",
       "\n",
       "    .dataframe thead th {\n",
       "        text-align: right;\n",
       "    }\n",
       "</style>\n",
       "<table border=\"1\" class=\"dataframe\">\n",
       "  <thead>\n",
       "    <tr style=\"text-align: right;\">\n",
       "      <th></th>\n",
       "      <th>variable_name</th>\n",
       "      <th>median</th>\n",
       "      <th>mean</th>\n",
       "      <th>std_dev</th>\n",
       "      <th>10th_percentile</th>\n",
       "      <th>90th_percentile</th>\n",
       "      <th>q1</th>\n",
       "      <th>q3</th>\n",
       "      <th>null_fraction</th>\n",
       "      <th>category_top_0</th>\n",
       "      <th>category_top_1</th>\n",
       "      <th>category_top_2</th>\n",
       "      <th>category_top_3</th>\n",
       "      <th>category_top_4</th>\n",
       "      <th>_others</th>\n",
       "    </tr>\n",
       "  </thead>\n",
       "  <tbody>\n",
       "    <tr>\n",
       "      <th>0</th>\n",
       "      <td>age</td>\n",
       "      <td>28.0</td>\n",
       "      <td>28.692786</td>\n",
       "      <td>5.121164</td>\n",
       "      <td>22.0</td>\n",
       "      <td>36.0</td>\n",
       "      <td>25.0</td>\n",
       "      <td>32.0</td>\n",
       "      <td>0.0</td>\n",
       "      <td>NaN</td>\n",
       "      <td>NaN</td>\n",
       "      <td>NaN</td>\n",
       "      <td>NaN</td>\n",
       "      <td>NaN</td>\n",
       "      <td>NaN</td>\n",
       "    </tr>\n",
       "    <tr>\n",
       "      <th>1</th>\n",
       "      <td>daysSinceFirstEvent</td>\n",
       "      <td>16076.0</td>\n",
       "      <td>16261.625102</td>\n",
       "      <td>1452.578314</td>\n",
       "      <td>14397.0</td>\n",
       "      <td>18507.0</td>\n",
       "      <td>14977.0</td>\n",
       "      <td>17472.0</td>\n",
       "      <td>0.0</td>\n",
       "      <td>NaN</td>\n",
       "      <td>NaN</td>\n",
       "      <td>NaN</td>\n",
       "      <td>NaN</td>\n",
       "      <td>NaN</td>\n",
       "      <td>NaN</td>\n",
       "    </tr>\n",
       "    <tr>\n",
       "      <th>2</th>\n",
       "      <td>contractType2</td>\n",
       "      <td>1.0</td>\n",
       "      <td>1.685221</td>\n",
       "      <td>0.945901</td>\n",
       "      <td>1.0</td>\n",
       "      <td>3.0</td>\n",
       "      <td>1.0</td>\n",
       "      <td>3.0</td>\n",
       "      <td>0.0</td>\n",
       "      <td>NaN</td>\n",
       "      <td>NaN</td>\n",
       "      <td>NaN</td>\n",
       "      <td>NaN</td>\n",
       "      <td>NaN</td>\n",
       "      <td>NaN</td>\n",
       "    </tr>\n",
       "    <tr>\n",
       "      <th>3</th>\n",
       "      <td>sicknessInsurance2</td>\n",
       "      <td>1.0</td>\n",
       "      <td>1.036220</td>\n",
       "      <td>0.186836</td>\n",
       "      <td>1.0</td>\n",
       "      <td>1.0</td>\n",
       "      <td>1.0</td>\n",
       "      <td>1.0</td>\n",
       "      <td>0.0</td>\n",
       "      <td>NaN</td>\n",
       "      <td>NaN</td>\n",
       "      <td>NaN</td>\n",
       "      <td>NaN</td>\n",
       "      <td>NaN</td>\n",
       "      <td>NaN</td>\n",
       "    </tr>\n",
       "    <tr>\n",
       "      <th>4</th>\n",
       "      <td>fullTime2</td>\n",
       "      <td>2.0</td>\n",
       "      <td>1.593243</td>\n",
       "      <td>0.491229</td>\n",
       "      <td>1.0</td>\n",
       "      <td>2.0</td>\n",
       "      <td>1.0</td>\n",
       "      <td>2.0</td>\n",
       "      <td>0.0</td>\n",
       "      <td>NaN</td>\n",
       "      <td>NaN</td>\n",
       "      <td>NaN</td>\n",
       "      <td>NaN</td>\n",
       "      <td>NaN</td>\n",
       "      <td>NaN</td>\n",
       "    </tr>\n",
       "  </tbody>\n",
       "</table>\n",
       "</div>"
      ],
      "text/plain": [
       "         variable_name   median          mean      std_dev  10th_percentile  \\\n",
       "0                  age     28.0     28.692786     5.121164             22.0   \n",
       "1  daysSinceFirstEvent  16076.0  16261.625102  1452.578314          14397.0   \n",
       "2        contractType2      1.0      1.685221     0.945901              1.0   \n",
       "3   sicknessInsurance2      1.0      1.036220     0.186836              1.0   \n",
       "4            fullTime2      2.0      1.593243     0.491229              1.0   \n",
       "\n",
       "   90th_percentile       q1       q3  null_fraction  category_top_0  \\\n",
       "0             36.0     25.0     32.0            0.0             NaN   \n",
       "1          18507.0  14977.0  17472.0            0.0             NaN   \n",
       "2              3.0      1.0      3.0            0.0             NaN   \n",
       "3              1.0      1.0      1.0            0.0             NaN   \n",
       "4              2.0      1.0      2.0            0.0             NaN   \n",
       "\n",
       "   category_top_1  category_top_2  category_top_3  category_top_4  _others  \n",
       "0             NaN             NaN             NaN             NaN      NaN  \n",
       "1             NaN             NaN             NaN             NaN      NaN  \n",
       "2             NaN             NaN             NaN             NaN      NaN  \n",
       "3             NaN             NaN             NaN             NaN      NaN  \n",
       "4             NaN             NaN             NaN             NaN      NaN  "
      ]
     },
     "execution_count": 14,
     "metadata": {},
     "output_type": "execute_result"
    }
   ],
   "source": [
    "d_cols = pd.read_csv(os.path.join(url, columns))\n",
    "d_cols.head()"
   ]
  },
  {
   "cell_type": "code",
   "execution_count": 17,
   "metadata": {},
   "outputs": [
    {
     "name": "stdout",
     "output_type": "stream",
     "text": [
      "age\n",
      "daysSinceFirstEvent\n",
      "contractType2\n",
      "sicknessInsurance2\n",
      "fullTime2\n",
      "sector2\n",
      "industry2\n",
      "jobType2\n",
      "empRelationship2\n",
      "begOrEnd\n"
     ]
    }
   ],
   "source": [
    "for idx, row in d_cols.iterrows():\n",
    "    print(row[\"variable_name\"])"
   ]
  },
  {
   "cell_type": "code",
   "execution_count": null,
   "metadata": {},
   "outputs": [],
   "source": []
  }
 ],
 "metadata": {
  "kernelspec": {
   "display_name": ".venv",
   "language": "python",
   "name": "python3"
  },
  "language_info": {
   "codemirror_mode": {
    "name": "ipython",
    "version": 3
   },
   "file_extension": ".py",
   "mimetype": "text/x-python",
   "name": "python",
   "nbconvert_exporter": "python",
   "pygments_lexer": "ipython3",
   "version": "3.10.4"
  }
 },
 "nbformat": 4,
 "nbformat_minor": 2
}
