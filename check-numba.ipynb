{
 "cells": [
  {
   "cell_type": "code",
   "execution_count": 1,
   "metadata": {},
   "outputs": [
    {
     "name": "stdout",
     "output_type": "stream",
     "text": [
      "Python 3.10.4\n"
     ]
    }
   ],
   "source": [
    "!python --version"
   ]
  },
  {
   "cell_type": "code",
   "execution_count": 29,
   "metadata": {},
   "outputs": [],
   "source": [
    "import pickle \n",
    "import numpy as np \n",
    "import timeit \n",
    "import numba "
   ]
  },
  {
   "cell_type": "code",
   "execution_count": 3,
   "metadata": {},
   "outputs": [],
   "source": [
    "root = \"/home/flavio/datasets/synthetic_layered_graph_1mil/\"\n",
    "layers = []\n",
    "# nsample = 1000"
   ]
  },
  {
   "cell_type": "code",
   "execution_count": 4,
   "metadata": {},
   "outputs": [],
   "source": [
    "# with open(root + \"fake_\" + \"education\" + \"_adjacency_dict.pkl\", \"rb\") as pkl_file:\n",
    "#     edges = dict(pickle.load(pkl_file))\n",
    "#     users = list(edges.keys())\n",
    "#     users = users[:nsample]"
   ]
  },
  {
   "cell_type": "code",
   "execution_count": 5,
   "metadata": {},
   "outputs": [],
   "source": [
    "layer_types = [\"family\", \"colleague\", \"education\", \"neighbor\", \"household\"]\n",
    "layer_types = [\"neighbor\", \"colleague\"]\n",
    "for ltype in layer_types:\n",
    "    with open(root + \"fake_\" + ltype + \"_adjacency_dict.pkl\", \"rb\") as pkl_file:\n",
    "        edges = dict(pickle.load(pkl_file))\n",
    "        # edges_keep = dict((u, edges[u]) for u in users)\n",
    "        layers.append(edges)"
   ]
  },
  {
   "cell_type": "code",
   "execution_count": 6,
   "metadata": {},
   "outputs": [
    {
     "data": {
      "text/plain": [
       "1000000"
      ]
     },
     "execution_count": 6,
     "metadata": {},
     "output_type": "execute_result"
    }
   ],
   "source": [
    "users = list(layers[0].keys())\n",
    "len(users)"
   ]
  },
  {
   "cell_type": "code",
   "execution_count": 7,
   "metadata": {},
   "outputs": [
    {
     "name": "stdout",
     "output_type": "stream",
     "text": [
      "[0, 1, 2, 3]\n",
      "[0, 1, 2, 3]\n"
     ]
    }
   ],
   "source": [
    "print(users[:4])\n",
    "for user in users: # XXX does this do anything?\n",
    "    user += 5\n",
    "print(users[:4])"
   ]
  },
  {
   "cell_type": "code",
   "execution_count": 8,
   "metadata": {},
   "outputs": [
    {
     "name": "stdout",
     "output_type": "stream",
     "text": [
      "[5, 6, 7, 8]\n"
     ]
    }
   ],
   "source": [
    "users = [u + 5 for u in users]\n",
    "print(users[:4])"
   ]
  },
  {
   "cell_type": "code",
   "execution_count": 9,
   "metadata": {},
   "outputs": [],
   "source": [
    "node_layer_dict = {}"
   ]
  },
  {
   "cell_type": "code",
   "execution_count": 10,
   "metadata": {},
   "outputs": [],
   "source": [
    "for user in users:\n",
    "    node_layer_dict[user] = []\n",
    "    \n",
    "    for i, layer in enumerate(layers):\n",
    "        if user in layer:\n",
    "            if len(layer[user]) > 0:\n",
    "                node_layer_dict[user].append(i)"
   ]
  },
  {
   "cell_type": "code",
   "execution_count": 46,
   "metadata": {},
   "outputs": [
    {
     "data": {
      "text/plain": [
       "[0, 1]"
      ]
     },
     "execution_count": 46,
     "metadata": {},
     "output_type": "execute_result"
    }
   ],
   "source": [
    "a = list(node_layer_dict.keys())\n",
    "a[0]\n",
    "node_layer_dict[5]"
   ]
  },
  {
   "cell_type": "code",
   "execution_count": 43,
   "metadata": {},
   "outputs": [
    {
     "data": {
      "text/plain": [
       "[216591,\n",
       " 359203,\n",
       " 303294,\n",
       " 629913,\n",
       " 941856,\n",
       " 657939,\n",
       " 33155,\n",
       " 184951,\n",
       " 293721,\n",
       " 665878,\n",
       " 214931,\n",
       " 483588,\n",
       " 505018,\n",
       " 838030,\n",
       " 139399,\n",
       " 228960,\n",
       " 629783,\n",
       " 589567,\n",
       " 700786,\n",
       " 428120,\n",
       " 736350,\n",
       " 929797,\n",
       " 462671,\n",
       " 654239,\n",
       " 822538,\n",
       " 973284]"
      ]
     },
     "execution_count": 43,
     "metadata": {},
     "output_type": "execute_result"
    }
   ],
   "source": [
    "list(layers[0].keys())[:3]\n",
    "layers[0][3]"
   ]
  },
  {
   "cell_type": "markdown",
   "metadata": {},
   "source": [
    "Numba does not work with dicts. Can we replace the following dicts?\n",
    "- `layers`: a dict (layer type) of dicts (user id) of adjacency lists.\n",
    "- node_layer_dict: a dict (user id) of layer ids, indicating whether the user has connections in this layer\n",
    "\n",
    "\n",
    "could we not rewrite this as lists?\n",
    "- `layers`: one layer is a list of adjacency lists, where the first adjacency list is from the first user\n",
    "    - the user id refers to the order in the list\n",
    "    - `layers` is a list of lists of lists \n",
    "- `node_layer_dict`: similar to a single layer: the first list indicates which layers are present for the first user\n",
    "\n",
    "Chatgpt suggests to use numpy arrays for performance. Think; check this response."
   ]
  },
  {
   "cell_type": "code",
   "execution_count": 30,
   "metadata": {},
   "outputs": [],
   "source": [
    "# @numba.jit\n",
    "def custom_sample(choice_set: list):\n",
    "    \"custom function to apply np.random.choice\"\n",
    "    if len(choice_set) == 0:\n",
    "        return None \n",
    "    elif len(choice_set) == 1:\n",
    "        chosen = choice_set[0]\n",
    "    else:\n",
    "        chosen = np.random.choice(choice_set)\n",
    "    \n",
    "    return chosen"
   ]
  },
  {
   "cell_type": "code",
   "execution_count": 31,
   "metadata": {},
   "outputs": [],
   "source": [
    "# @numba.jit\n",
    "def generate_walks(unique_users: list, walk_len: int, p: float = 0.8):\n",
    "    \"Generate one random walk for each user\"\n",
    "    num_users = len(unique_users)\n",
    "    random_nums = np.random.rand(num_users, walk_len)\n",
    "\n",
    "    rows = []\n",
    "    for user_idx, user in enumerate(unique_users):   \n",
    "        current_node = user\n",
    "        \n",
    "        layer_indices = node_layer_dict[current_node]\n",
    "        layer_index = custom_sample(layer_indices)\n",
    "        if not layer_index:\n",
    "            break\n",
    "\n",
    "        current_layer = layers[layer_index]\n",
    "             \n",
    "        walk = [user]\n",
    "        while len(walk) < walk_len:\n",
    "            layer_indices = node_layer_dict[current_node]\n",
    "        \n",
    "            roll = random_nums[user_idx][len(walk)]\n",
    "            \n",
    "            if roll > p:\n",
    "                layer_index = custom_sample(layer_indices)\n",
    "                if not layer:\n",
    "                    break\n",
    "                \n",
    "            adjacent_nodes = current_layer[current_node]\n",
    "\n",
    "            # Layer index should encode the layer type in an integer 0-4\n",
    "            walk.append(layer_index)\n",
    "            \n",
    "            next_node = custom_sample(adjacent_nodes)\n",
    "            if not next_node:\n",
    "                break\n",
    "            \n",
    "            walk.append(next_node)\n",
    "            current_node = next_node\n",
    "        #assert len(walk) == walk_len, print(len(walk))\n",
    "        rows.append(walk)\n",
    "\n",
    "    return rows\n",
    "\n",
    "    "
   ]
  },
  {
   "cell_type": "code",
   "execution_count": 32,
   "metadata": {},
   "outputs": [
    {
     "ename": "TypingError",
     "evalue": "Failed in nopython mode pipeline (step: nopython frontend)\n\u001b[1mUntyped global name 'node_layer_dict':\u001b[0m \u001b[1m\u001b[1mCannot determine Numba type of <class 'dict'>\u001b[0m\n\u001b[1m\nFile \"../../../../../../tmp/ipykernel_133361/220147459.py\", line 11:\u001b[0m\n\u001b[1m<source missing, REPL/exec in use?>\u001b[0m\n\u001b[0m",
     "output_type": "error",
     "traceback": [
      "\u001b[0;31m---------------------------------------------------------------------------\u001b[0m",
      "\u001b[0;31mTypingError\u001b[0m                               Traceback (most recent call last)",
      "Cell \u001b[0;32mIn[32], line 3\u001b[0m\n\u001b[1;32m      1\u001b[0m walk_len \u001b[38;5;241m=\u001b[39m \u001b[38;5;241m40\u001b[39m\n\u001b[1;32m      2\u001b[0m num_walks \u001b[38;5;241m=\u001b[39m \u001b[38;5;241m5\u001b[39m\n\u001b[0;32m----> 3\u001b[0m a \u001b[38;5;241m=\u001b[39m \u001b[43mgenerate_walks\u001b[49m\u001b[43m(\u001b[49m\u001b[43munique_users\u001b[49m\u001b[38;5;241;43m=\u001b[39;49m\u001b[43musers\u001b[49m\u001b[43m,\u001b[49m\u001b[43m \u001b[49m\u001b[43mwalk_len\u001b[49m\u001b[38;5;241;43m=\u001b[39;49m\u001b[43mwalk_len\u001b[49m\u001b[43m)\u001b[49m\n\u001b[1;32m      4\u001b[0m \u001b[38;5;66;03m# call this function num_walks times\u001b[39;00m\n",
      "File \u001b[0;32m~/repositories/projects/odissei-life2vec/life-sequencing-dutch/.venv/lib/python3.10/site-packages/numba/core/dispatcher.py:468\u001b[0m, in \u001b[0;36m_DispatcherBase._compile_for_args\u001b[0;34m(self, *args, **kws)\u001b[0m\n\u001b[1;32m    464\u001b[0m         msg \u001b[38;5;241m=\u001b[39m (\u001b[38;5;124mf\u001b[39m\u001b[38;5;124m\"\u001b[39m\u001b[38;5;132;01m{\u001b[39;00m\u001b[38;5;28mstr\u001b[39m(e)\u001b[38;5;241m.\u001b[39mrstrip()\u001b[38;5;132;01m}\u001b[39;00m\u001b[38;5;124m \u001b[39m\u001b[38;5;130;01m\\n\u001b[39;00m\u001b[38;5;130;01m\\n\u001b[39;00m\u001b[38;5;124mThis error may have been caused \u001b[39m\u001b[38;5;124m\"\u001b[39m\n\u001b[1;32m    465\u001b[0m                \u001b[38;5;124mf\u001b[39m\u001b[38;5;124m\"\u001b[39m\u001b[38;5;124mby the following argument(s):\u001b[39m\u001b[38;5;130;01m\\n\u001b[39;00m\u001b[38;5;132;01m{\u001b[39;00margs_str\u001b[38;5;132;01m}\u001b[39;00m\u001b[38;5;130;01m\\n\u001b[39;00m\u001b[38;5;124m\"\u001b[39m)\n\u001b[1;32m    466\u001b[0m         e\u001b[38;5;241m.\u001b[39mpatch_message(msg)\n\u001b[0;32m--> 468\u001b[0m     \u001b[43merror_rewrite\u001b[49m\u001b[43m(\u001b[49m\u001b[43me\u001b[49m\u001b[43m,\u001b[49m\u001b[43m \u001b[49m\u001b[38;5;124;43m'\u001b[39;49m\u001b[38;5;124;43mtyping\u001b[39;49m\u001b[38;5;124;43m'\u001b[39;49m\u001b[43m)\u001b[49m\n\u001b[1;32m    469\u001b[0m \u001b[38;5;28;01mexcept\u001b[39;00m errors\u001b[38;5;241m.\u001b[39mUnsupportedError \u001b[38;5;28;01mas\u001b[39;00m e:\n\u001b[1;32m    470\u001b[0m     \u001b[38;5;66;03m# Something unsupported is present in the user code, add help info\u001b[39;00m\n\u001b[1;32m    471\u001b[0m     error_rewrite(e, \u001b[38;5;124m'\u001b[39m\u001b[38;5;124munsupported_error\u001b[39m\u001b[38;5;124m'\u001b[39m)\n",
      "File \u001b[0;32m~/repositories/projects/odissei-life2vec/life-sequencing-dutch/.venv/lib/python3.10/site-packages/numba/core/dispatcher.py:409\u001b[0m, in \u001b[0;36m_DispatcherBase._compile_for_args.<locals>.error_rewrite\u001b[0;34m(e, issue_type)\u001b[0m\n\u001b[1;32m    407\u001b[0m     \u001b[38;5;28;01mraise\u001b[39;00m e\n\u001b[1;32m    408\u001b[0m \u001b[38;5;28;01melse\u001b[39;00m:\n\u001b[0;32m--> 409\u001b[0m     \u001b[38;5;28;01mraise\u001b[39;00m e\u001b[38;5;241m.\u001b[39mwith_traceback(\u001b[38;5;28;01mNone\u001b[39;00m)\n",
      "\u001b[0;31mTypingError\u001b[0m: Failed in nopython mode pipeline (step: nopython frontend)\n\u001b[1mUntyped global name 'node_layer_dict':\u001b[0m \u001b[1m\u001b[1mCannot determine Numba type of <class 'dict'>\u001b[0m\n\u001b[1m\nFile \"../../../../../../tmp/ipykernel_133361/220147459.py\", line 11:\u001b[0m\n\u001b[1m<source missing, REPL/exec in use?>\u001b[0m\n\u001b[0m"
     ]
    }
   ],
   "source": [
    "walk_len = 40\n",
    "num_walks = 5\n",
    "a = generate_walks(unique_users=users, walk_len=walk_len)\n",
    "# call this function num_walks times"
   ]
  },
  {
   "cell_type": "code",
   "execution_count": 25,
   "metadata": {},
   "outputs": [],
   "source": [
    "def create_many_walks(users: list, walk_len: int, num_walks: int):\n",
    "    out = []\n",
    "    for _ in range(num_walks):\n",
    "        walks = generate_walks(unique_users=users, walk_len=walk_len)\n",
    "        out.append(walks)\n",
    "    return out "
   ]
  },
  {
   "cell_type": "code",
   "execution_count": 28,
   "metadata": {},
   "outputs": [
    {
     "name": "stdout",
     "output_type": "stream",
     "text": [
      "799 ms ± 4.51 ms per loop (mean ± std. dev. of 7 runs, 1 loop each)\n"
     ]
    }
   ],
   "source": [
    "%timeit create_many_walks(users=users, walk_len=walk_len, num_walks=num_walks)"
   ]
  },
  {
   "cell_type": "code",
   "execution_count": null,
   "metadata": {},
   "outputs": [],
   "source": []
  },
  {
   "cell_type": "code",
   "execution_count": null,
   "metadata": {},
   "outputs": [],
   "source": []
  }
 ],
 "metadata": {
  "kernelspec": {
   "display_name": ".venv",
   "language": "python",
   "name": "python3"
  },
  "language_info": {
   "codemirror_mode": {
    "name": "ipython",
    "version": 3
   },
   "file_extension": ".py",
   "mimetype": "text/x-python",
   "name": "python",
   "nbconvert_exporter": "python",
   "pygments_lexer": "ipython3",
   "version": "3.10.4"
  }
 },
 "nbformat": 4,
 "nbformat_minor": 2
}
